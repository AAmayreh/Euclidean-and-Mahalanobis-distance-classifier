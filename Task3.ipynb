{
 "cells": [
  {
   "cell_type": "code",
   "execution_count": 1,
   "metadata": {},
   "outputs": [
    {
     "name": "stdout",
     "output_type": "stream",
     "text": [
      "Using E.D classifier, x classified as class:\n",
      "[0 0 0]\n",
      "Using M.D classifier, x classified as class:\n",
      "[0 0 0]\n"
     ]
    }
   ],
   "source": [
    "import numpy as np\n",
    "\n",
    "#Question 3i_ Classification using Euclidean Distance Classifier\n",
    "\n",
    "m0=np.array([0, 0, 0]).T           # mean for class w0\n",
    "m1=np.array([0.5, 0.5, 0.5]).T     # mean for class w1\n",
    "S0=S1=np.array([[0.8, 0.01, 0.01],  # sigma\n",
    "            [0.01, 0.2, 0.01],\n",
    "            [0.01, 0.01, 0.2]])\n",
    "Xte=np.array([[0.1, 0.5, 0.1]]).T         # testing point\n",
    "N=100\n",
    "# Generating a training set for each class\n",
    "\n",
    "Xtr_w0=np.random.multivariate_normal(m0, S0, 100)   # vectors for class_0, shape(100,3)\n",
    "Ytr_w0 = 0*np.ones((100, 1))                        # labels for class_0 \n",
    "\n",
    "Xtr_w1 = np.random.multivariate_normal(m1, S1, 100)  # vectors for class_1\n",
    "Ytr_w1 = 1*np.ones((100, 1))                        # labels for class_1\n",
    "\n",
    "Xtr=np.concatenate((Xtr_w0,Xtr_w1),axis=0)          # concatenating both training sets, shape(100,3)\n",
    "Ytr=np.concatenate((Ytr_w0,Ytr_w1),axis=0)\n",
    "\n",
    "# Calculating the ML estimate for each class\n",
    "\n",
    "m0_ML=(1.0/(N/3))*np.sum(Xtr_w0, axis=0)   # calculating mean for each dimension, class 0\n",
    "S0_ML=(1.0/(N/3))*np.dot((Xtr_w0-m0_ML).T,(Xtr_w0-m0_ML)) # calculating the variance, class 0\n",
    "\n",
    "m1_ML=(1.0/(N/3))*np.sum(Xtr_w1, axis=0)   # calculating mean for each dimension, class 1\n",
    "S1_ML=(1.0/(N/3))*np.dot((Xtr_w1-m1_ML).T,(Xtr_w1-m1_ML)) # calculating the variance, class 1\n",
    "\n",
    "S=(1.0/2.0)*(S0_ML+S1_ML)\n",
    "\n",
    "# Euclidean distance calculation\n",
    "de_0 = np.sqrt(np.sum((Xte-m0_ML)*(Xte-m0_ML), axis = 1))\n",
    "de_1 = np.sqrt(np.sum((Xte-m1_ML)*(Xte-m1_ML), axis = 1))\n",
    "\n",
    "\n",
    "# E.Classification Process\n",
    "de_matrix = np.stack((de_0, de_1), axis = 1)\n",
    "Eucl_result = np.argmin(de_matrix, axis = 1)\n",
    "print('Using E.D classifier, x classified as class:')\n",
    "print(Eucl_result)\n",
    "\n",
    "#Question 3ii_ Classification using Mahalanobis Distance Classifier\n",
    "\n",
    "inv_S = np.linalg.inv(S) \n",
    "dm_0 = np.sqrt(np.sum(np.dot((Xte-m0_ML), inv_S)*(Xte-m0_ML), axis = 1))\n",
    "dm_1 = np.sqrt(np.sum(np.dot((Xte-m1_ML), inv_S)*(Xte-m1_ML), axis = 1))\n",
    "\n",
    "# M.Classification Process\n",
    "dm_matrix = np.stack((dm_0, dm_1), axis = 1)\n",
    "Mahal_result = np.argmin(dm_matrix, axis = 1)\n",
    "print('Using M.D classifier, x classified as class:')\n",
    "print(Mahal_result)\n",
    "\n",
    "#Comment\n",
    "#Both distance calculation techniques gave the same classification result, which implies that for the same data set; Euclidean and Mahalanobis\n",
    "#have the same performance"
   ]
  },
  {
   "cell_type": "code",
   "execution_count": null,
   "metadata": {},
   "outputs": [],
   "source": []
  },
  {
   "cell_type": "code",
   "execution_count": null,
   "metadata": {},
   "outputs": [],
   "source": []
  }
 ],
 "metadata": {
  "kernelspec": {
   "display_name": "Python 3",
   "language": "python",
   "name": "python3"
  },
  "language_info": {
   "codemirror_mode": {
    "name": "ipython",
    "version": 3
   },
   "file_extension": ".py",
   "mimetype": "text/x-python",
   "name": "python",
   "nbconvert_exporter": "python",
   "pygments_lexer": "ipython3",
   "version": "3.8.5"
  }
 },
 "nbformat": 4,
 "nbformat_minor": 4
}
